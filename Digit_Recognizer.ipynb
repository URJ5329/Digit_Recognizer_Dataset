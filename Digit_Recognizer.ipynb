{
 "cells": [
  {
   "cell_type": "code",
   "execution_count": 1,
   "metadata": {},
   "outputs": [],
   "source": [
    "import pandas as pd \n",
    "import numpy as np\n",
    "import tensorflow as tf\n",
    "import seaborn as sns\n",
    "import matplotlib.pyplot as plt\n",
    "from keras.preprocessing.image import ImageDataGenerator\n",
    "import warnings\n",
    "warnings.filterwarnings('ignore')"
   ]
  },
  {
   "cell_type": "code",
   "execution_count": 2,
   "metadata": {},
   "outputs": [],
   "source": [
    "train = pd.read_csv(r'C:\\Users\\umang\\OneDrive\\Desktop\\Machine Learning A-Z (Codes and Datasets)\\Projects\\Digit Recognizer\\train.csv')\n",
    "test = pd.read_csv(r'C:\\Users\\umang\\OneDrive\\Desktop\\Machine Learning A-Z (Codes and Datasets)\\Projects\\Digit Recognizer\\test.csv')"
   ]
  },
  {
   "cell_type": "code",
   "execution_count": 3,
   "metadata": {},
   "outputs": [
    {
     "data": {
      "text/plain": [
       "<AxesSubplot:xlabel='label', ylabel='count'>"
      ]
     },
     "execution_count": 3,
     "metadata": {},
     "output_type": "execute_result"
    },
    {
     "data": {
      "image/png": "[encoded data removed]",
      "text/plain": [
       "<Figure size 432x288 with 1 Axes>"
      ]
     },
     "metadata": {
      "needs_background": "light"
     },
     "output_type": "display_data"
    }
   ],
   "source": [
    "sns.countplot(train['label'])"
   ]
  },
  {
   "cell_type": "code",
   "execution_count": 4,
   "metadata": {},
   "outputs": [],
   "source": [
    "#Splitting the dataset\n",
    "x_train =train.drop('label',axis=1)\n",
    "y_train = train['label']\n",
    "\n",
    "x_test = test"
   ]
  },
  {
   "cell_type": "code",
   "execution_count": 5,
   "metadata": {},
   "outputs": [],
   "source": [
    "x_train = x_train/255.0\n",
    "x_test = x_test/255.0"
   ]
  },
  {
   "cell_type": "code",
   "execution_count": 6,
   "metadata": {},
   "outputs": [
    {
     "name": "stdout",
     "output_type": "stream",
     "text": [
      "(42000, 784)\n",
      "(28000, 784)\n"
     ]
    }
   ],
   "source": [
    "print(x_train.shape)\n",
    "print(x_test.shape)"
   ]
  },
  {
   "cell_type": "code",
   "execution_count": 7,
   "metadata": {},
   "outputs": [],
   "source": [
    "#Reshaping\n",
    "x_train = np.array(x_train)\n",
    "x_test = np.array(x_test)\n",
    "\n",
    "x_train = x_train.reshape(x_train.shape[0], 28, 28, 1)\n",
    "x_test = x_test.reshape(x_test.shape[0], 28, 28, 1)"
   ]
  },
  {
   "cell_type": "code",
   "execution_count": 8,
   "metadata": {},
   "outputs": [],
   "source": [
    "y_train = pd.get_dummies(y_train)"
   ]
  },
  {
   "cell_type": "code",
   "execution_count": 9,
   "metadata": {},
   "outputs": [],
   "source": [
    "#Splitting train and test set\n",
    "from sklearn.model_selection import train_test_split\n",
    "x_train, x_val, y_train, y_val = train_test_split(x_train, y_train, test_size = 0.2, random_state=26)"
   ]
  },
  {
   "cell_type": "code",
   "execution_count": 10,
   "metadata": {},
   "outputs": [
    {
     "data": {
      "image/png": "[encoded data removed]",
      "text/plain": [
       "<Figure size 432x288 with 1 Axes>"
      ]
     },
     "metadata": {
      "needs_background": "light"
     },
     "output_type": "display_data"
    }
   ],
   "source": [
    "g=plt.imshow(x_train[3])"
   ]
  },
  {
   "cell_type": "code",
   "execution_count": 17,
   "metadata": {},
   "outputs": [],
   "source": [
    "cnn = tf.keras.models.Sequential()"
   ]
  },
  {
   "cell_type": "code",
   "execution_count": 18,
   "metadata": {},
   "outputs": [],
   "source": [
    "cnn.add(tf.keras.layers.Conv2D(filters=64, kernel_size=3, activation='relu', input_shape=[28,28,1]))\n",
    "cnn.add(tf.keras.layers.MaxPool2D(pool_size=2, strides=2))\n",
    "cnn.add(tf.keras.layers.Dropout(0.25)) #to reduce overfitting"
   ]
  },
  {
   "cell_type": "code",
   "execution_count": 19,
   "metadata": {},
   "outputs": [],
   "source": [
    "cnn.add(tf.keras.layers.Conv2D(filters=64, kernel_size=3, activation='relu', input_shape=[28,28,1]))\n",
    "cnn.add(tf.keras.layers.MaxPool2D(pool_size=2, strides=2))\n",
    "cnn.add(tf.keras.layers.Dropout(0.25))"
   ]
  },
  {
   "cell_type": "code",
   "execution_count": 20,
   "metadata": {},
   "outputs": [],
   "source": [
    "cnn.add(tf.keras.layers.Conv2D(filters=64, kernel_size=3, activation='relu', input_shape=[28,28,1]))\n",
    "cnn.add(tf.keras.layers.MaxPool2D(pool_size=2, strides=2))\n",
    "cnn.add(tf.keras.layers.Dropout(0.25))"
   ]
  },
  {
   "cell_type": "code",
   "execution_count": 23,
   "metadata": {},
   "outputs": [],
   "source": [
    "cnn.add(tf.keras.layers.Flatten())"
   ]
  },
  {
   "cell_type": "code",
   "execution_count": 24,
   "metadata": {},
   "outputs": [],
   "source": [
    "cnn.add(tf.keras.layers.Dense(units=256, activation='relu')) \n",
    "cnn.add(tf.keras.layers.Dense(units=10, activation='softmax')) "
   ]
  },
  {
   "cell_type": "code",
   "execution_count": 25,
   "metadata": {},
   "outputs": [],
   "source": [
    "cnn.compile(optimizer = 'adam', loss='categorical_crossentropy', metrics=['accuracy'])"
   ]
  },
  {
   "cell_type": "code",
   "execution_count": 26,
   "metadata": {},
   "outputs": [],
   "source": [
    "# datagen = ImageDataGenerator(\n",
    "#     shear_range = 0.2,\n",
    "#     zoom_range = 0.2,\n",
    "#     featurewise_center=True,\n",
    "#     samplewise_center=True,\n",
    "#     featurewise_std_normalization=True,\n",
    "#     samplewise_std_normalization=True\n",
    "#     )"
   ]
  },
  {
   "cell_type": "code",
   "execution_count": 27,
   "metadata": {
    "scrolled": true
   },
   "outputs": [
    {
     "name": "stdout",
     "output_type": "stream",
     "text": [
      "Epoch 1/20\n",
      "600/600 [==============================] - 20s 32ms/step - loss: 1.1499 - accuracy: 0.6055 - val_loss: 0.1863 - val_accuracy: 0.9394\n",
      "Epoch 2/20\n",
      "600/600 [==============================] - 35s 58ms/step - loss: 0.2537 - accuracy: 0.9230 - val_loss: 0.1130 - val_accuracy: 0.9662\n",
      "Epoch 3/20\n",
      "600/600 [==============================] - 29s 48ms/step - loss: 0.1953 - accuracy: 0.9399 - val_loss: 0.0961 - val_accuracy: 0.9690\n",
      "Epoch 4/20\n",
      "600/600 [==============================] - 29s 48ms/step - loss: 0.1491 - accuracy: 0.9567 - val_loss: 0.0814 - val_accuracy: 0.9740\n",
      "Epoch 5/20\n",
      "600/600 [==============================] - 29s 49ms/step - loss: 0.1366 - accuracy: 0.9570 - val_loss: 0.0721 - val_accuracy: 0.9789\n",
      "Epoch 6/20\n",
      "600/600 [==============================] - 31s 51ms/step - loss: 0.1238 - accuracy: 0.9615 - val_loss: 0.0732 - val_accuracy: 0.9777\n",
      "Epoch 7/20\n",
      "600/600 [==============================] - 33s 55ms/step - loss: 0.1312 - accuracy: 0.9566 - val_loss: 0.0660 - val_accuracy: 0.9792\n",
      "Epoch 8/20\n",
      "600/600 [==============================] - 31s 51ms/step - loss: 0.1097 - accuracy: 0.9649 - val_loss: 0.0579 - val_accuracy: 0.9817\n",
      "Epoch 9/20\n",
      "600/600 [==============================] - 31s 51ms/step - loss: 0.1104 - accuracy: 0.9663 - val_loss: 0.0570 - val_accuracy: 0.9819\n",
      "Epoch 10/20\n",
      "600/600 [==============================] - 31s 51ms/step - loss: 0.0906 - accuracy: 0.9701 - val_loss: 0.0534 - val_accuracy: 0.9833\n",
      "Epoch 11/20\n",
      "600/600 [==============================] - 31s 51ms/step - loss: 0.0951 - accuracy: 0.9703 - val_loss: 0.0479 - val_accuracy: 0.9858\n",
      "Epoch 12/20\n",
      "600/600 [==============================] - 31s 51ms/step - loss: 0.0851 - accuracy: 0.9769 - val_loss: 0.0498 - val_accuracy: 0.9844\n",
      "Epoch 13/20\n",
      "600/600 [==============================] - 31s 52ms/step - loss: 0.0830 - accuracy: 0.9736 - val_loss: 0.0458 - val_accuracy: 0.9864\n",
      "Epoch 14/20\n",
      "600/600 [==============================] - 31s 51ms/step - loss: 0.0775 - accuracy: 0.9765 - val_loss: 0.0501 - val_accuracy: 0.9848\n",
      "Epoch 15/20\n",
      "600/600 [==============================] - 31s 51ms/step - loss: 0.0699 - accuracy: 0.9788 - val_loss: 0.0439 - val_accuracy: 0.9874\n",
      "Epoch 16/20\n",
      "600/600 [==============================] - 31s 52ms/step - loss: 0.0641 - accuracy: 0.9795 - val_loss: 0.0512 - val_accuracy: 0.9833\n",
      "Epoch 17/20\n",
      "600/600 [==============================] - 32s 53ms/step - loss: 0.0748 - accuracy: 0.9779 - val_loss: 0.0473 - val_accuracy: 0.9848\n",
      "Epoch 18/20\n",
      "600/600 [==============================] - 31s 52ms/step - loss: 0.0712 - accuracy: 0.9790 - val_loss: 0.0484 - val_accuracy: 0.9848\n",
      "Epoch 19/20\n",
      "600/600 [==============================] - 35s 59ms/step - loss: 0.0671 - accuracy: 0.9792 - val_loss: 0.0443 - val_accuracy: 0.9873\n",
      "Epoch 20/20\n",
      "600/600 [==============================] - 32s 54ms/step - loss: 0.0683 - accuracy: 0.9769 - val_loss: 0.0515 - val_accuracy: 0.9845\n"
     ]
    }
   ],
   "source": [
    "model = cnn.fit(x_train, y_train,batch_size=25,validation_data = (x_val, y_val),steps_per_epoch=x_train.shape[0]//56,epochs=20)"
   ]
  },
  {
   "cell_type": "code",
   "execution_count": 28,
   "metadata": {},
   "outputs": [
    {
     "data": {
      "text/plain": [
       "<matplotlib.legend.Legend at 0x28f0e62b280>"
      ]
     },
     "execution_count": 28,
     "metadata": {},
     "output_type": "execute_result"
    },
    {
     "data": {
      "image/png": "[encoded data removed]",
      "text/plain": [
       "<Figure size 432x288 with 1 Axes>"
      ]
     },
     "metadata": {
      "needs_background": "light"
     },
     "output_type": "display_data"
    }
   ],
   "source": [
    "plt.plot(model.history['accuracy'])\n",
    "plt.plot(model.history['val_accuracy'])\n",
    "plt.title('model accuracy')\n",
    "plt.ylabel('accuracy')\n",
    "plt.xlabel('epoch')\n",
    "plt.legend(['train', 'valid'], loc='best')"
   ]
  },
  {
   "cell_type": "code",
   "execution_count": 29,
   "metadata": {},
   "outputs": [
    {
     "data": {
      "text/plain": [
       "<matplotlib.legend.Legend at 0x28f2156c130>"
      ]
     },
     "execution_count": 29,
     "metadata": {},
     "output_type": "execute_result"
    },
    {
     "data": {
      "image/png": "[encoded data removed]",
      "text/plain": [
       "<Figure size 432x288 with 1 Axes>"
      ]
     },
     "metadata": {
      "needs_background": "light"
     },
     "output_type": "display_data"
    }
   ],
   "source": [
    "# summarize history for loss\n",
    "plt.plot(model.history['loss'])\n",
    "plt.plot(model.history['val_loss'])\n",
    "plt.title('model loss')\n",
    "plt.ylabel('loss')\n",
    "plt.xlabel('epoch')\n",
    "plt.legend(['train', 'valid'], loc='best')"
   ]
  },
  {
   "cell_type": "code",
   "execution_count": 30,
   "metadata": {},
   "outputs": [],
   "source": [
    "result = cnn.predict(x_test)"
   ]
  },
  {
   "cell_type": "code",
   "execution_count": 31,
   "metadata": {},
   "outputs": [],
   "source": [
    "result=np.argmax(result,axis=1)"
   ]
  },
  {
   "cell_type": "code",
   "execution_count": 32,
   "metadata": {},
   "outputs": [
    {
     "data": {
      "text/plain": [
       "array([2, 0, 9, ..., 3, 9, 2], dtype=int64)"
      ]
     },
     "execution_count": 32,
     "metadata": {},
     "output_type": "execute_result"
    }
   ],
   "source": [
    "result"
   ]
  },
  {
   "cell_type": "code",
   "execution_count": 33,
   "metadata": {},
   "outputs": [],
   "source": [
    "result = pd.Series(result, name = 'Label')"
   ]
  },
  {
   "cell_type": "code",
   "execution_count": 34,
   "metadata": {},
   "outputs": [],
   "source": [
    "submission = pd.concat([pd.Series(range(1, 28001), name = 'ImageId'), result], axis = 1)"
   ]
  },
  {
   "cell_type": "code",
   "execution_count": 35,
   "metadata": {},
   "outputs": [],
   "source": [
    "submission.to_csv('digit_submission.csv',index=False)"
   ]
  },
  {
   "cell_type": "code",
   "execution_count": null,
   "metadata": {},
   "outputs": [],
   "source": []
  }
 ],
 "metadata": {
  "kernelspec": {
   "display_name": "Python 3",
   "language": "python",
   "name": "python3"
  },
  "language_info": {
   "codemirror_mode": {
    "name": "ipython",
    "version": 3
   },
   "file_extension": ".py",
   "mimetype": "text/x-python",
   "name": "python",
   "nbconvert_exporter": "python",
   "pygments_lexer": "ipython3",
   "version": "3.8.5"
  }
 },
 "nbformat": 4,
 "nbformat_minor": 4
}
